{
 "cells": [
  {
   "cell_type": "markdown",
   "metadata": {},
   "source": [
    "# 프로젝트\n"
   ]
  },
  {
   "cell_type": "markdown",
   "metadata": {},
   "source": [
    "## 사전 설정"
   ]
  },
  {
   "cell_type": "markdown",
   "metadata": {},
   "source": [
    "- dh key too small 오류 회피를 위한 python 3.9 버전 설정 필요"
   ]
  },
  {
   "cell_type": "markdown",
   "metadata": {},
   "source": [
    "### 모듈 설치"
   ]
  },
  {
   "cell_type": "code",
   "execution_count": null,
   "metadata": {},
   "outputs": [],
   "source": [
    "%pip install tqdm aiohttp pandas ipywidgets matplotlib plotly openpyxl"
   ]
  },
  {
   "cell_type": "markdown",
   "metadata": {},
   "source": [
    "## 데이터 모델 정의"
   ]
  },
  {
   "cell_type": "markdown",
   "metadata": {},
   "source": [
    "### Request, Response 모델 정의"
   ]
  },
  {
   "cell_type": "code",
   "execution_count": null,
   "metadata": {},
   "outputs": [],
   "source": [
    "class RequestData:\n",
    "    def __init__(self, title: str, url: str, form_data: dict):\n",
    "        self.title = title\n",
    "        self.url = url\n",
    "        self.form_data = form_data\n",
    "\n",
    "\n",
    "class ResponseData:\n",
    "    def __init__(self, title: str, url: str, bytes: bytearray, success: bool):\n",
    "        self.title = title\n",
    "        self.url = url\n",
    "        self.bytes = bytes\n",
    "        self.success = success"
   ]
  },
  {
   "cell_type": "markdown",
   "metadata": {},
   "source": [
    "## 함수 정의"
   ]
  },
  {
   "cell_type": "markdown",
   "metadata": {},
   "source": [
    "### async fetch\n",
    "\n",
    "비동기 요청 함수"
   ]
  },
  {
   "cell_type": "code",
   "execution_count": null,
   "metadata": {},
   "outputs": [],
   "source": [
    "import aiohttp\n",
    "from tqdm.notebook import tqdm\n",
    "\n",
    "async def fetch(session, request_data: RequestData, position: int) -> ResponseData:\n",
    "    form_data = aiohttp.FormData(request_data.form_data)\n",
    "\n",
    "    async with session.post(request_data.url, data=form_data) as response:\n",
    "        total_size_in_bytes = int(response.headers.get(\"content-length\", 0))\n",
    "\n",
    "        progress_bar = tqdm(total=total_size_in_bytes, desc=request_data.title, unit=\"iB\", unit_scale=True)\n",
    "\n",
    "        data = bytearray()\n",
    "        async for chunk in response.content.iter_any():\n",
    "            data.extend(chunk)\n",
    "            progress_bar.update(len(chunk))\n",
    "        progress_bar.close()\n",
    "\n",
    "        return ResponseData(request_data.title, request_data.url, data, True)"
   ]
  },
  {
   "cell_type": "markdown",
   "metadata": {},
   "source": [
    "### async fetchAll\n",
    "\n",
    "비동기 fetch all 함수"
   ]
  },
  {
   "cell_type": "code",
   "execution_count": null,
   "metadata": {},
   "outputs": [],
   "source": [
    "import aiohttp\n",
    "import asyncio\n",
    "from tqdm.notebook import tqdm\n",
    "\n",
    "\n",
    "async def fetchAll(requests: list[RequestData]) -> list[ResponseData]:\n",
    "    async with aiohttp.ClientSession() as session:\n",
    "        tasks = []\n",
    "        for index, request_data in enumerate(requests):\n",
    "            task = asyncio.create_task(fetch(session, request_data, index))\n",
    "            tasks.append(task)\n",
    "        responses = await asyncio.gather(*tasks)\n",
    "        return responses"
   ]
  },
  {
   "cell_type": "markdown",
   "metadata": {},
   "source": [
    "### response_data_to_dataframe\n",
    "\n",
    "ResponseData를 DataFrame으로 변환"
   ]
  },
  {
   "cell_type": "code",
   "execution_count": null,
   "metadata": {},
   "outputs": [],
   "source": [
    "import pandas as pd\n",
    "from io import StringIO\n",
    "from typing import Callable\n",
    "\n",
    "def response_data_to_dataframe(responses_data: ResponseData, converter: Callable[[str], pd.DataFrame]) -> pd.DataFrame:\n",
    "    df = converter(responses_data.bytes)\n",
    "    df[\"title\"] = responses_data.title\n",
    "\n",
    "    return df\n"
   ]
  },
  {
   "cell_type": "markdown",
   "metadata": {},
   "source": [
    "### merge_columns_df\n",
    "\n",
    "특정 열 기준으로 열 값 합"
   ]
  },
  {
   "cell_type": "code",
   "execution_count": null,
   "metadata": {},
   "outputs": [],
   "source": [
    "def merge_columns_df(df: pd.DataFrame, criteria: list[str], column_filter: Callable[[str], bool]) -> pd.DataFrame:\n",
    "    \"\"\"\n",
    "    criteria열과 str열 기준으로 column_filter를 통과하는 열들 합\n",
    "    \"\"\"\n",
    "    filtered_columns = [col for col in df.columns if column_filter(col)]\n",
    "\n",
    "    return df.groupby(criteria)[filtered_columns].sum().reset_index()"
   ]
  },
  {
   "cell_type": "markdown",
   "metadata": {},
   "source": [
    "## 수집 데이터 정의"
   ]
  },
  {
   "cell_type": "markdown",
   "metadata": {},
   "source": [
    "### station_request_data\n",
    "\n",
    "정류소 수집 데이터 정의"
   ]
  },
  {
   "cell_type": "code",
   "execution_count": null,
   "metadata": {},
   "outputs": [],
   "source": [
    "station_request_data = RequestData(\n",
    "    title=\"서울시버스정류소 위치정보 20231114\",\n",
    "    url=\"https://datafile.seoul.go.kr/bigfile/iot/inf/nio_download.do?&useCache=false\",\n",
    "    form_data={\"infId\": \"OA-15067\", \"seqNo\": \"\", \"seq\": \"21\", \"infSeq\": \"1\"},\n",
    ")"
   ]
  },
  {
   "cell_type": "markdown",
   "metadata": {},
   "source": [
    "### passengers_request_data_list\n",
    "\n",
    "승하차 수집 데이터 정의"
   ]
  },
  {
   "cell_type": "code",
   "execution_count": null,
   "metadata": {},
   "outputs": [],
   "source": [
    "passengers_request_data_list = [\n",
    "    RequestData(\n",
    "        title=\"2023년 9월\",\n",
    "        url=\"https://datafile.seoul.go.kr/bigfile/iot/inf/nio_download.do?&useCache=false\",\n",
    "        form_data={\"infId\": \"OA-12913\", \"seqNo\": \"\", \"seq\": \"75\", \"infSeq\": \"3\"},\n",
    "    ),\n",
    "    RequestData(\n",
    "        title=\"2023년 8월\",\n",
    "        url=\"https://datafile.seoul.go.kr/bigfile/iot/inf/nio_download.do?&useCache=false\",\n",
    "        form_data={\"infId\": \"OA-12913\", \"seqNo\": \"\", \"seq\": \"74\", \"infSeq\": \"3\"},\n",
    "    ),\n",
    "    RequestData(\n",
    "        title=\"2023년 7월\",\n",
    "        url=\"https://datafile.seoul.go.kr/bigfile/iot/inf/nio_download.do?&useCache=false\",\n",
    "        form_data={\"infId\": \"OA-12913\", \"seqNo\": \"\", \"seq\": \"73\", \"infSeq\": \"3\"},\n",
    "    ),\n",
    "    RequestData(\n",
    "        title=\"2023년 6월\",\n",
    "        url=\"https://datafile.seoul.go.kr/bigfile/iot/inf/nio_download.do?&useCache=false\",\n",
    "        form_data={\"infId\": \"OA-12913\", \"seqNo\": \"\", \"seq\": \"72\", \"infSeq\": \"3\"},\n",
    "    ),\n",
    "    RequestData(\n",
    "        title=\"2023년 5월\",\n",
    "        url=\"https://datafile.seoul.go.kr/bigfile/iot/inf/nio_download.do?&useCache=false\",\n",
    "        form_data={\"infId\": \"OA-12913\", \"seqNo\": \"\", \"seq\": \"71\", \"infSeq\": \"3\"},\n",
    "    ),\n",
    "    RequestData(\n",
    "        title=\"2023년 4월\",\n",
    "        url=\"https://datafile.seoul.go.kr/bigfile/iot/inf/nio_download.do?&useCache=false\",\n",
    "        form_data={\"infId\": \"OA-12913\", \"seqNo\": \"\", \"seq\": \"70\", \"infSeq\": \"3\"},\n",
    "    ),\n",
    "    RequestData(\n",
    "        title=\"2023년 3월\",\n",
    "        url=\"https://datafile.seoul.go.kr/bigfile/iot/inf/nio_download.do?&useCache=false\",\n",
    "        form_data={\"infId\": \"OA-12913\", \"seqNo\": \"\", \"seq\": \"69\", \"infSeq\": \"3\"},\n",
    "    ),\n",
    "    RequestData(\n",
    "        title=\"2023년 2월\",\n",
    "        url=\"https://datafile.seoul.go.kr/bigfile/iot/inf/nio_download.do?&useCache=false\",\n",
    "        form_data={\"infId\": \"OA-12913\", \"seqNo\": \"\", \"seq\": \"68\", \"infSeq\": \"3\"},\n",
    "    ),\n",
    "    RequestData(\n",
    "        title=\"2023년 1월\",\n",
    "        url=\"https://datafile.seoul.go.kr/bigfile/iot/inf/nio_download.do?&useCache=false\",\n",
    "        form_data={\"infId\": \"OA-12913\", \"seqNo\": \"\", \"seq\": \"67\", \"infSeq\": \"3\"},\n",
    "    ),\n",
    "]"
   ]
  },
  {
   "cell_type": "markdown",
   "metadata": {},
   "source": [
    "## 데이터 수집"
   ]
  },
  {
   "cell_type": "markdown",
   "metadata": {},
   "source": [
    "### 정류소 데이터 수집"
   ]
  },
  {
   "cell_type": "code",
   "execution_count": null,
   "metadata": {},
   "outputs": [],
   "source": [
    "from io import BytesIO\n",
    "\n",
    "station_df = response_data_to_dataframe(\n",
    "    (await fetchAll([station_request_data]))[0],\n",
    "    lambda bytes: (pd.read_excel(BytesIO(bytes), sheet_name=\"Data\", header=0)),\n",
    ")\n",
    "\n",
    "station_df.to_csv(\"station.csv\", index=False)"
   ]
  },
  {
   "cell_type": "code",
   "execution_count": null,
   "metadata": {},
   "outputs": [],
   "source": [
    "print(station_df.head())"
   ]
  },
  {
   "cell_type": "markdown",
   "metadata": {},
   "source": [
    "### 승하차 데이터 수집"
   ]
  },
  {
   "cell_type": "code",
   "execution_count": null,
   "metadata": {},
   "outputs": [],
   "source": [
    "passengers_df_list = list(map(\n",
    "    lambda data: response_data_to_dataframe(data, lambda bytes: pd.read_csv(StringIO(bytes.decode(\"euc-kr\", errors=\"replace\")))),\n",
    "    await fetchAll(passengers_request_data_list[:])\n",
    "))\n"
   ]
  },
  {
   "cell_type": "code",
   "execution_count": null,
   "metadata": {},
   "outputs": [],
   "source": [
    "for passengers_df in passengers_df_list:\n",
    "    print(passengers_df.head())"
   ]
  },
  {
   "cell_type": "markdown",
   "metadata": {},
   "source": [
    "## 전처리"
   ]
  },
  {
   "cell_type": "markdown",
   "metadata": {},
   "source": [
    "### 역별 승하차 수 합\n",
    "\n",
    "수집한 데이터에서 정류장별 승하차 수 합"
   ]
  },
  {
   "cell_type": "code",
   "execution_count": null,
   "metadata": {},
   "outputs": [],
   "source": [
    "merged_passengers_df_list = list(map(\n",
    "    lambda df: merge_columns_df(\n",
    "        df, [\"사용년월\", \"표준버스정류장ID\"], lambda column: (column.endswith(\"시승차총승객수\") or column.endswith(\"시하차총승객수\"))\n",
    "    ),\n",
    "    passengers_df_list,\n",
    "))"
   ]
  },
  {
   "cell_type": "code",
   "execution_count": null,
   "metadata": {},
   "outputs": [],
   "source": [
    "for merged_passengers_df in merged_passengers_df_list:\n",
    "    print(merged_passengers_df.head())"
   ]
  },
  {
   "cell_type": "markdown",
   "metadata": {},
   "source": [
    "### 승하차 데이터 분리\n",
    "\n",
    "승차 데이터와 하차 데이터 분리"
   ]
  },
  {
   "cell_type": "code",
   "execution_count": null,
   "metadata": {},
   "outputs": [],
   "source": [
    "def select_and_rename_columns(df, column_suffix):\n",
    "    selected_columns = df.loc[:, [\"사용년월\", \"표준버스정류장ID\"] + [col for col in df if col.endswith(column_suffix)]]\n",
    "\n",
    "    new_column_names = [\"사용년월\", \"표준버스정류장ID\"] + [\n",
    "        str(int(col.split(\"시\")[0])) for col in selected_columns.columns if column_suffix in col\n",
    "    ]\n",
    "    selected_columns.columns = new_column_names\n",
    "\n",
    "    return selected_columns"
   ]
  },
  {
   "cell_type": "code",
   "execution_count": null,
   "metadata": {},
   "outputs": [],
   "source": [
    "board_passengers_df_list = list(map(lambda df: select_and_rename_columns(df, \"승차총승객수\"), merged_passengers_df_list))\n",
    "alight_passengers_df_list = list(map(lambda df: select_and_rename_columns(df, \"하차총승객수\"), merged_passengers_df_list))"
   ]
  },
  {
   "cell_type": "code",
   "execution_count": null,
   "metadata": {},
   "outputs": [],
   "source": [
    "\n",
    "for board_passengers_df in board_passengers_df_list:\n",
    "    print(board_passengers_df.head())\n",
    "\n",
    "for alight_passengers_df in alight_passengers_df_list:\n",
    "    print(alight_passengers_df.head())"
   ]
  },
  {
   "cell_type": "markdown",
   "metadata": {},
   "source": [
    "### 승하차별 데이터 병합"
   ]
  },
  {
   "cell_type": "code",
   "execution_count": null,
   "metadata": {},
   "outputs": [],
   "source": [
    "board_passengers_df = pd.concat(board_passengers_df_list)\n",
    "alight_passengers_df = pd.concat(alight_passengers_df_list)"
   ]
  },
  {
   "cell_type": "code",
   "execution_count": null,
   "metadata": {},
   "outputs": [],
   "source": [
    "print(board_passengers_df.head())\n",
    "print(alight_passengers_df.head())\n"
   ]
  },
  {
   "cell_type": "markdown",
   "metadata": {},
   "source": [
    "### 승하차 데이터 병합"
   ]
  },
  {
   "cell_type": "code",
   "execution_count": null,
   "metadata": {},
   "outputs": [],
   "source": [
    "board_passengers_df['타입'] = \"승차\"\n",
    "alight_passengers_df['타입'] = \"하차\"\n",
    "\n",
    "passengers_df = pd.concat([board_passengers_df, alight_passengers_df])\n",
    "\n",
    "print(passengers_df.head())\n",
    "\n",
    "# save as csv\n",
    "passengers_df.to_csv(\"passengers.csv\", index=False)\n"
   ]
  },
  {
   "cell_type": "markdown",
   "metadata": {},
   "source": [
    "### 버스 정류장 데이터와 join"
   ]
  },
  {
   "cell_type": "code",
   "execution_count": null,
   "metadata": {},
   "outputs": [],
   "source": [
    "merged_df = pd.merge(station_df, passengers_df, left_on=\"NODE_ID\", right_on=\"표준버스정류장ID\")\n",
    "\n",
    "print(merged_df.head())\n",
    "merged_df.to_csv(\"merged.csv\", index=False)"
   ]
  },
  {
   "cell_type": "markdown",
   "metadata": {},
   "source": [
    "## 시각화\n"
   ]
  },
  {
   "cell_type": "code",
   "execution_count": null,
   "metadata": {},
   "outputs": [],
   "source": [
    "import numpy as np\n",
    "import pandas as pd\n",
    "\n",
    "import plotly.graph_objects as go\n",
    "from ipywidgets import widgets\n",
    "\n",
    "from IPython.display import display\n",
    "\n",
    "df = merged_df\n",
    "\n",
    "date_range = sorted(list(df[\"사용년월\"].unique()), reverse=True)\n",
    "\n",
    "date_slider = widgets.IntSlider(\n",
    "    description=\"사용년월: \", min=min(date_range), max=max(date_range), step=1, value=max(date_range)\n",
    ")\n",
    "search_textbox = widgets.Text(description=\"정류소명:   \")\n",
    "station_dropbox = widgets.Dropdown(description=\"정류소명:   \", options=df[\"정류소명\"].unique().tolist())\n",
    "\n",
    "board_trace = go.Bar(name=\"승차 수\", orientation=\"v\", width=0.5)\n",
    "alight_trace = go.Bar(name=\"하차 수\", orientation=\"v\", width=0.5)\n",
    "\n",
    "g = go.FigureWidget(\n",
    "    data=[board_trace, alight_trace],\n",
    "    layout=go.Layout(\n",
    "        title=dict(\n",
    "            text=\"정류소 시간별 승하차 수\",\n",
    "        ),\n",
    "        barmode=\"stack\",\n",
    "    ),\n",
    ")\n",
    "\n",
    "\n",
    "def validate():\n",
    "    if station_dropbox.value in df[\"정류소명\"].unique():\n",
    "        return True\n",
    "    else:\n",
    "        return False\n",
    "\n",
    "\n",
    "def update_station_dropbox(change):\n",
    "    search_text = search_textbox.value\n",
    "    filtered_stations = [station for station in df[\"정류소명\"].unique() if search_text in station]\n",
    "\n",
    "    with g.batch_update():\n",
    "        station_dropbox.options = filtered_stations\n",
    "        if filtered_stations:\n",
    "            station_dropbox.value = filtered_stations[0]\n",
    "\n",
    "\n",
    "def response(change):\n",
    "    if validate():\n",
    "        boarding_row = df[\n",
    "            (df[\"정류소명\"] == station_dropbox.value) & (df[\"사용년월\"] == date_slider.value) & (df[\"타입\"] == \"승차\")\n",
    "        ].iloc[0]\n",
    "        alighting_row = df[\n",
    "            (df[\"정류소명\"] == station_dropbox.value) & (df[\"사용년월\"] == date_slider.value) & (df[\"타입\"] == \"하차\")\n",
    "        ].iloc[0]\n",
    "        board_value = boarding_row.loc[map(str, range(0, 24))]\n",
    "        alight_value = alighting_row.loc[map(str, range(0, 24))]\n",
    "        with g.batch_update():\n",
    "            g.data[0].y = board_value\n",
    "            g.data[1].y = alight_value\n",
    "            g.layout.barmode = \"stack\"\n",
    "            g.layout.xaxis.title = \"시간\"\n",
    "            g.layout.xaxis.tickmode = \"linear\"\n",
    "            g.layout.xaxis.dtick = 1\n",
    "            g.layout.yaxis.title = \"승하차 총 승객 수\"\n",
    "            g.layout.yaxis.tickformat = \",\"\n",
    "\n",
    "\n",
    "date_slider.observe(response, names=\"value\")\n",
    "search_textbox.observe(update_station_dropbox, names=\"value\")\n",
    "station_dropbox.observe(response, names=\"value\")\n",
    "\n",
    "search_container = widgets.HBox([search_textbox, station_dropbox])\n",
    "\n",
    "container = widgets.VBox([date_slider, search_container, g])\n",
    "\n",
    "display(container)\n",
    "\n",
    "response(None)"
   ]
  }
 ],
 "metadata": {
  "kernelspec": {
   "display_name": "Python 3",
   "language": "python",
   "name": "python3"
  },
  "language_info": {
   "codemirror_mode": {
    "name": "ipython",
    "version": 3
   },
   "file_extension": ".py",
   "mimetype": "text/x-python",
   "name": "python",
   "nbconvert_exporter": "python",
   "pygments_lexer": "ipython3",
   "version": "3.9.18"
  }
 },
 "nbformat": 4,
 "nbformat_minor": 2
}
